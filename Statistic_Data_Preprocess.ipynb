{
 "cells": [
  {
   "cell_type": "markdown",
   "metadata": {},
   "source": [
    "### Import Libraries"
   ]
  },
  {
   "cell_type": "code",
   "execution_count": 864,
   "metadata": {},
   "outputs": [],
   "source": [
    "import pandas as pd\n",
    "import numpy as np\n",
    "import matplotlib.pyplot as plt\n",
    "import seaborn as sns\n",
    "%matplotlib inline"
   ]
  },
  {
   "cell_type": "markdown",
   "metadata": {},
   "source": [
    "### Time csv"
   ]
  },
  {
   "cell_type": "code",
   "execution_count": 865,
   "metadata": {},
   "outputs": [],
   "source": [
    "Time = pd.read_csv('data/time.csv', sep='\\t', names=[\"time\"])"
   ]
  },
  {
   "cell_type": "code",
   "execution_count": 866,
   "metadata": {},
   "outputs": [
    {
     "data": {
      "text/html": [
       "<div>\n",
       "<style scoped>\n",
       "    .dataframe tbody tr th:only-of-type {\n",
       "        vertical-align: middle;\n",
       "    }\n",
       "\n",
       "    .dataframe tbody tr th {\n",
       "        vertical-align: top;\n",
       "    }\n",
       "\n",
       "    .dataframe thead th {\n",
       "        text-align: right;\n",
       "    }\n",
       "</style>\n",
       "<table border=\"1\" class=\"dataframe\">\n",
       "  <thead>\n",
       "    <tr style=\"text-align: right;\">\n",
       "      <th></th>\n",
       "      <th>time</th>\n",
       "    </tr>\n",
       "  </thead>\n",
       "  <tbody>\n",
       "    <tr>\n",
       "      <th>0</th>\n",
       "      <td>140133</td>\n",
       "    </tr>\n",
       "    <tr>\n",
       "      <th>1</th>\n",
       "      <td>140134</td>\n",
       "    </tr>\n",
       "    <tr>\n",
       "      <th>2</th>\n",
       "      <td>140135</td>\n",
       "    </tr>\n",
       "    <tr>\n",
       "      <th>3</th>\n",
       "      <td>140137</td>\n",
       "    </tr>\n",
       "    <tr>\n",
       "      <th>4</th>\n",
       "      <td>140138</td>\n",
       "    </tr>\n",
       "  </tbody>\n",
       "</table>\n",
       "</div>"
      ],
      "text/plain": [
       "     time\n",
       "0  140133\n",
       "1  140134\n",
       "2  140135\n",
       "3  140137\n",
       "4  140138"
      ]
     },
     "execution_count": 866,
     "metadata": {},
     "output_type": "execute_result"
    }
   ],
   "source": [
    "Time.head()"
   ]
  },
  {
   "cell_type": "code",
   "execution_count": 867,
   "metadata": {
    "scrolled": true
   },
   "outputs": [],
   "source": [
    "Time.drop(Time.index[len(Time)-1], inplace = True)"
   ]
  },
  {
   "cell_type": "code",
   "execution_count": 868,
   "metadata": {
    "scrolled": false
   },
   "outputs": [
    {
     "data": {
      "text/html": [
       "<div>\n",
       "<style scoped>\n",
       "    .dataframe tbody tr th:only-of-type {\n",
       "        vertical-align: middle;\n",
       "    }\n",
       "\n",
       "    .dataframe tbody tr th {\n",
       "        vertical-align: top;\n",
       "    }\n",
       "\n",
       "    .dataframe thead th {\n",
       "        text-align: right;\n",
       "    }\n",
       "</style>\n",
       "<table border=\"1\" class=\"dataframe\">\n",
       "  <thead>\n",
       "    <tr style=\"text-align: right;\">\n",
       "      <th></th>\n",
       "      <th>time</th>\n",
       "    </tr>\n",
       "  </thead>\n",
       "  <tbody>\n",
       "    <tr>\n",
       "      <th>5</th>\n",
       "      <td>140139</td>\n",
       "    </tr>\n",
       "    <tr>\n",
       "      <th>6</th>\n",
       "      <td>140140</td>\n",
       "    </tr>\n",
       "    <tr>\n",
       "      <th>7</th>\n",
       "      <td>140141</td>\n",
       "    </tr>\n",
       "    <tr>\n",
       "      <th>8</th>\n",
       "      <td>140142</td>\n",
       "    </tr>\n",
       "    <tr>\n",
       "      <th>9</th>\n",
       "      <td>140144</td>\n",
       "    </tr>\n",
       "  </tbody>\n",
       "</table>\n",
       "</div>"
      ],
      "text/plain": [
       "     time\n",
       "5  140139\n",
       "6  140140\n",
       "7  140141\n",
       "8  140142\n",
       "9  140144"
      ]
     },
     "execution_count": 868,
     "metadata": {},
     "output_type": "execute_result"
    }
   ],
   "source": [
    "Time.tail()"
   ]
  },
  {
   "cell_type": "markdown",
   "metadata": {},
   "source": [
    "### Battery csv"
   ]
  },
  {
   "cell_type": "code",
   "execution_count": 869,
   "metadata": {},
   "outputs": [],
   "source": [
    "Battery = pd.read_csv('data/battery.csv', sep=',', names=[\"bat_voltage\", \"bat_temp\", \"bat_capacity\", \"bat_current\"])"
   ]
  },
  {
   "cell_type": "code",
   "execution_count": 870,
   "metadata": {},
   "outputs": [
    {
     "data": {
      "text/html": [
       "<div>\n",
       "<style scoped>\n",
       "    .dataframe tbody tr th:only-of-type {\n",
       "        vertical-align: middle;\n",
       "    }\n",
       "\n",
       "    .dataframe tbody tr th {\n",
       "        vertical-align: top;\n",
       "    }\n",
       "\n",
       "    .dataframe thead th {\n",
       "        text-align: right;\n",
       "    }\n",
       "</style>\n",
       "<table border=\"1\" class=\"dataframe\">\n",
       "  <thead>\n",
       "    <tr style=\"text-align: right;\">\n",
       "      <th></th>\n",
       "      <th>bat_voltage</th>\n",
       "      <th>bat_temp</th>\n",
       "      <th>bat_capacity</th>\n",
       "      <th>bat_current</th>\n",
       "    </tr>\n",
       "  </thead>\n",
       "  <tbody>\n",
       "    <tr>\n",
       "      <th>0</th>\n",
       "      <td>4390</td>\n",
       "      <td>28</td>\n",
       "      <td>100</td>\n",
       "      <td>-75</td>\n",
       "    </tr>\n",
       "    <tr>\n",
       "      <th>1</th>\n",
       "      <td>4390</td>\n",
       "      <td>28</td>\n",
       "      <td>100</td>\n",
       "      <td>-75</td>\n",
       "    </tr>\n",
       "    <tr>\n",
       "      <th>2</th>\n",
       "      <td>4381</td>\n",
       "      <td>28</td>\n",
       "      <td>100</td>\n",
       "      <td>0</td>\n",
       "    </tr>\n",
       "    <tr>\n",
       "      <th>3</th>\n",
       "      <td>4381</td>\n",
       "      <td>28</td>\n",
       "      <td>100</td>\n",
       "      <td>0</td>\n",
       "    </tr>\n",
       "    <tr>\n",
       "      <th>4</th>\n",
       "      <td>4381</td>\n",
       "      <td>28</td>\n",
       "      <td>100</td>\n",
       "      <td>0</td>\n",
       "    </tr>\n",
       "  </tbody>\n",
       "</table>\n",
       "</div>"
      ],
      "text/plain": [
       "  bat_voltage bat_temp bat_capacity bat_current\n",
       "0        4390       28          100         -75\n",
       "1        4390       28          100         -75\n",
       "2        4381       28          100           0\n",
       "3        4381       28          100           0\n",
       "4        4381       28          100           0"
      ]
     },
     "execution_count": 870,
     "metadata": {},
     "output_type": "execute_result"
    }
   ],
   "source": [
    "Battery.head()"
   ]
  },
  {
   "cell_type": "code",
   "execution_count": 871,
   "metadata": {},
   "outputs": [],
   "source": [
    "Battery.drop(Battery.index[len(Battery)-1], inplace = True)"
   ]
  },
  {
   "cell_type": "code",
   "execution_count": 872,
   "metadata": {},
   "outputs": [
    {
     "data": {
      "text/html": [
       "<div>\n",
       "<style scoped>\n",
       "    .dataframe tbody tr th:only-of-type {\n",
       "        vertical-align: middle;\n",
       "    }\n",
       "\n",
       "    .dataframe tbody tr th {\n",
       "        vertical-align: top;\n",
       "    }\n",
       "\n",
       "    .dataframe thead th {\n",
       "        text-align: right;\n",
       "    }\n",
       "</style>\n",
       "<table border=\"1\" class=\"dataframe\">\n",
       "  <thead>\n",
       "    <tr style=\"text-align: right;\">\n",
       "      <th></th>\n",
       "      <th>bat_voltage</th>\n",
       "      <th>bat_temp</th>\n",
       "      <th>bat_capacity</th>\n",
       "      <th>bat_current</th>\n",
       "    </tr>\n",
       "  </thead>\n",
       "  <tbody>\n",
       "    <tr>\n",
       "      <th>5</th>\n",
       "      <td>4381</td>\n",
       "      <td>28</td>\n",
       "      <td>100</td>\n",
       "      <td>0</td>\n",
       "    </tr>\n",
       "    <tr>\n",
       "      <th>6</th>\n",
       "      <td>4381</td>\n",
       "      <td>28</td>\n",
       "      <td>100</td>\n",
       "      <td>0</td>\n",
       "    </tr>\n",
       "    <tr>\n",
       "      <th>7</th>\n",
       "      <td>4382</td>\n",
       "      <td>28</td>\n",
       "      <td>100</td>\n",
       "      <td>2</td>\n",
       "    </tr>\n",
       "    <tr>\n",
       "      <th>8</th>\n",
       "      <td>4382</td>\n",
       "      <td>28</td>\n",
       "      <td>100</td>\n",
       "      <td>2</td>\n",
       "    </tr>\n",
       "    <tr>\n",
       "      <th>9</th>\n",
       "      <td>4382</td>\n",
       "      <td>28</td>\n",
       "      <td>100</td>\n",
       "      <td>2</td>\n",
       "    </tr>\n",
       "  </tbody>\n",
       "</table>\n",
       "</div>"
      ],
      "text/plain": [
       "  bat_voltage bat_temp bat_capacity bat_current\n",
       "5        4381       28          100           0\n",
       "6        4381       28          100           0\n",
       "7        4382       28          100           2\n",
       "8        4382       28          100           2\n",
       "9        4382       28          100           2"
      ]
     },
     "execution_count": 872,
     "metadata": {},
     "output_type": "execute_result"
    }
   ],
   "source": [
    "Battery.tail()"
   ]
  },
  {
   "cell_type": "markdown",
   "metadata": {},
   "source": [
    "### GPU csv"
   ]
  },
  {
   "cell_type": "code",
   "execution_count": 873,
   "metadata": {},
   "outputs": [],
   "source": [
    "GPU = pd.read_csv('data/gpu.csv', sep=',', names=[\"gpu_usage\", \"gpu_temp\", \"gpu_freq\"])"
   ]
  },
  {
   "cell_type": "code",
   "execution_count": 874,
   "metadata": {},
   "outputs": [
    {
     "data": {
      "text/html": [
       "<div>\n",
       "<style scoped>\n",
       "    .dataframe tbody tr th:only-of-type {\n",
       "        vertical-align: middle;\n",
       "    }\n",
       "\n",
       "    .dataframe tbody tr th {\n",
       "        vertical-align: top;\n",
       "    }\n",
       "\n",
       "    .dataframe thead th {\n",
       "        text-align: right;\n",
       "    }\n",
       "</style>\n",
       "<table border=\"1\" class=\"dataframe\">\n",
       "  <thead>\n",
       "    <tr style=\"text-align: right;\">\n",
       "      <th></th>\n",
       "      <th>gpu_usage</th>\n",
       "      <th>gpu_temp</th>\n",
       "      <th>gpu_freq</th>\n",
       "    </tr>\n",
       "  </thead>\n",
       "  <tbody>\n",
       "    <tr>\n",
       "      <th>0</th>\n",
       "      <td>10</td>\n",
       "      <td>34.3</td>\n",
       "      <td>257000000</td>\n",
       "    </tr>\n",
       "    <tr>\n",
       "      <th>1</th>\n",
       "      <td>0</td>\n",
       "      <td>33.9</td>\n",
       "      <td>257000000</td>\n",
       "    </tr>\n",
       "    <tr>\n",
       "      <th>2</th>\n",
       "      <td>0</td>\n",
       "      <td>33.6</td>\n",
       "      <td>257000000</td>\n",
       "    </tr>\n",
       "    <tr>\n",
       "      <th>3</th>\n",
       "      <td>0</td>\n",
       "      <td>33.2</td>\n",
       "      <td>257000000</td>\n",
       "    </tr>\n",
       "    <tr>\n",
       "      <th>4</th>\n",
       "      <td>0</td>\n",
       "      <td>33.2</td>\n",
       "      <td>257000000</td>\n",
       "    </tr>\n",
       "  </tbody>\n",
       "</table>\n",
       "</div>"
      ],
      "text/plain": [
       "  gpu_usage gpu_temp   gpu_freq\n",
       "0        10     34.3  257000000\n",
       "1         0     33.9  257000000\n",
       "2         0     33.6  257000000\n",
       "3         0     33.2  257000000\n",
       "4         0     33.2  257000000"
      ]
     },
     "execution_count": 874,
     "metadata": {},
     "output_type": "execute_result"
    }
   ],
   "source": [
    "GPU.head()"
   ]
  },
  {
   "cell_type": "code",
   "execution_count": 875,
   "metadata": {},
   "outputs": [],
   "source": [
    "GPU.drop(GPU.index[len(GPU)-1], inplace = True)"
   ]
  },
  {
   "cell_type": "code",
   "execution_count": 876,
   "metadata": {},
   "outputs": [
    {
     "data": {
      "text/html": [
       "<div>\n",
       "<style scoped>\n",
       "    .dataframe tbody tr th:only-of-type {\n",
       "        vertical-align: middle;\n",
       "    }\n",
       "\n",
       "    .dataframe tbody tr th {\n",
       "        vertical-align: top;\n",
       "    }\n",
       "\n",
       "    .dataframe thead th {\n",
       "        text-align: right;\n",
       "    }\n",
       "</style>\n",
       "<table border=\"1\" class=\"dataframe\">\n",
       "  <thead>\n",
       "    <tr style=\"text-align: right;\">\n",
       "      <th></th>\n",
       "      <th>gpu_usage</th>\n",
       "      <th>gpu_temp</th>\n",
       "      <th>gpu_freq</th>\n",
       "    </tr>\n",
       "  </thead>\n",
       "  <tbody>\n",
       "    <tr>\n",
       "      <th>5</th>\n",
       "      <td>0</td>\n",
       "      <td>33.2</td>\n",
       "      <td>257000000</td>\n",
       "    </tr>\n",
       "    <tr>\n",
       "      <th>6</th>\n",
       "      <td>0</td>\n",
       "      <td>33.2</td>\n",
       "      <td>257000000</td>\n",
       "    </tr>\n",
       "    <tr>\n",
       "      <th>7</th>\n",
       "      <td>0</td>\n",
       "      <td>32.8</td>\n",
       "      <td>257000000</td>\n",
       "    </tr>\n",
       "    <tr>\n",
       "      <th>8</th>\n",
       "      <td>0</td>\n",
       "      <td>33.6</td>\n",
       "      <td>257000000</td>\n",
       "    </tr>\n",
       "    <tr>\n",
       "      <th>9</th>\n",
       "      <td>0</td>\n",
       "      <td>33.6</td>\n",
       "      <td>257000000</td>\n",
       "    </tr>\n",
       "  </tbody>\n",
       "</table>\n",
       "</div>"
      ],
      "text/plain": [
       "  gpu_usage gpu_temp   gpu_freq\n",
       "5         0     33.2  257000000\n",
       "6         0     33.2  257000000\n",
       "7         0     32.8  257000000\n",
       "8         0     33.6  257000000\n",
       "9         0     33.6  257000000"
      ]
     },
     "execution_count": 876,
     "metadata": {},
     "output_type": "execute_result"
    }
   ],
   "source": [
    "GPU.tail()"
   ]
  },
  {
   "cell_type": "markdown",
   "metadata": {},
   "source": [
    "### Net csv (KB/s)"
   ]
  },
  {
   "cell_type": "code",
   "execution_count": 877,
   "metadata": {},
   "outputs": [],
   "source": [
    "Net = pd.read_csv('data/net.csv', sep=',', names=[\"tx\", \"rx\"])"
   ]
  },
  {
   "cell_type": "code",
   "execution_count": 878,
   "metadata": {},
   "outputs": [
    {
     "data": {
      "text/html": [
       "<div>\n",
       "<style scoped>\n",
       "    .dataframe tbody tr th:only-of-type {\n",
       "        vertical-align: middle;\n",
       "    }\n",
       "\n",
       "    .dataframe tbody tr th {\n",
       "        vertical-align: top;\n",
       "    }\n",
       "\n",
       "    .dataframe thead th {\n",
       "        text-align: right;\n",
       "    }\n",
       "</style>\n",
       "<table border=\"1\" class=\"dataframe\">\n",
       "  <thead>\n",
       "    <tr style=\"text-align: right;\">\n",
       "      <th></th>\n",
       "      <th>tx</th>\n",
       "      <th>rx</th>\n",
       "    </tr>\n",
       "  </thead>\n",
       "  <tbody>\n",
       "    <tr>\n",
       "      <th>0</th>\n",
       "      <td>52371.145</td>\n",
       "      <td>5347155.5</td>\n",
       "    </tr>\n",
       "    <tr>\n",
       "      <th>1</th>\n",
       "      <td>0.0</td>\n",
       "      <td>0.0</td>\n",
       "    </tr>\n",
       "    <tr>\n",
       "      <th>2</th>\n",
       "      <td>0.0</td>\n",
       "      <td>0.0</td>\n",
       "    </tr>\n",
       "    <tr>\n",
       "      <th>3</th>\n",
       "      <td>0.062</td>\n",
       "      <td>0.048</td>\n",
       "    </tr>\n",
       "    <tr>\n",
       "      <th>4</th>\n",
       "      <td>0.0</td>\n",
       "      <td>0.0</td>\n",
       "    </tr>\n",
       "  </tbody>\n",
       "</table>\n",
       "</div>"
      ],
      "text/plain": [
       "          tx         rx\n",
       "0  52371.145  5347155.5\n",
       "1        0.0        0.0\n",
       "2        0.0        0.0\n",
       "3      0.062      0.048\n",
       "4        0.0        0.0"
      ]
     },
     "execution_count": 878,
     "metadata": {},
     "output_type": "execute_result"
    }
   ],
   "source": [
    "Net.head()"
   ]
  },
  {
   "cell_type": "code",
   "execution_count": 879,
   "metadata": {},
   "outputs": [],
   "source": [
    "Net.drop(Net.index[len(Net)-1], inplace = True)"
   ]
  },
  {
   "cell_type": "code",
   "execution_count": 880,
   "metadata": {},
   "outputs": [
    {
     "data": {
      "text/html": [
       "<div>\n",
       "<style scoped>\n",
       "    .dataframe tbody tr th:only-of-type {\n",
       "        vertical-align: middle;\n",
       "    }\n",
       "\n",
       "    .dataframe tbody tr th {\n",
       "        vertical-align: top;\n",
       "    }\n",
       "\n",
       "    .dataframe thead th {\n",
       "        text-align: right;\n",
       "    }\n",
       "</style>\n",
       "<table border=\"1\" class=\"dataframe\">\n",
       "  <thead>\n",
       "    <tr style=\"text-align: right;\">\n",
       "      <th></th>\n",
       "      <th>tx</th>\n",
       "      <th>rx</th>\n",
       "    </tr>\n",
       "  </thead>\n",
       "  <tbody>\n",
       "    <tr>\n",
       "      <th>5</th>\n",
       "      <td>0.0</td>\n",
       "      <td>0.0</td>\n",
       "    </tr>\n",
       "    <tr>\n",
       "      <th>6</th>\n",
       "      <td>0.0</td>\n",
       "      <td>0.0</td>\n",
       "    </tr>\n",
       "    <tr>\n",
       "      <th>7</th>\n",
       "      <td>0.078</td>\n",
       "      <td>0.072</td>\n",
       "    </tr>\n",
       "    <tr>\n",
       "      <th>8</th>\n",
       "      <td>0.0</td>\n",
       "      <td>0.0</td>\n",
       "    </tr>\n",
       "    <tr>\n",
       "      <th>9</th>\n",
       "      <td>0.065</td>\n",
       "      <td>0.048</td>\n",
       "    </tr>\n",
       "  </tbody>\n",
       "</table>\n",
       "</div>"
      ],
      "text/plain": [
       "      tx     rx\n",
       "5    0.0    0.0\n",
       "6    0.0    0.0\n",
       "7  0.078  0.072\n",
       "8    0.0    0.0\n",
       "9  0.065  0.048"
      ]
     },
     "execution_count": 880,
     "metadata": {},
     "output_type": "execute_result"
    }
   ],
   "source": [
    "Net.tail()"
   ]
  },
  {
   "cell_type": "markdown",
   "metadata": {},
   "source": [
    "### CPU frequency csv (kHz)"
   ]
  },
  {
   "cell_type": "code",
   "execution_count": 881,
   "metadata": {},
   "outputs": [],
   "source": [
    "size = len(pd.read_csv('data/cpuFreq.csv').columns);"
   ]
  },
  {
   "cell_type": "code",
   "execution_count": 882,
   "metadata": {},
   "outputs": [
    {
     "data": {
      "text/plain": [
       "['cpu0', 'cpu1', 'cpu2', 'cpu3', 'cpu4', 'cpu5', 'cpu6', 'cpu7']"
      ]
     },
     "execution_count": 882,
     "metadata": {},
     "output_type": "execute_result"
    }
   ],
   "source": [
    "titles = []\n",
    "for i in range(0, size):\n",
    "    titles.append('cpu' + str(i))\n",
    "titles"
   ]
  },
  {
   "cell_type": "code",
   "execution_count": 883,
   "metadata": {},
   "outputs": [],
   "source": [
    "CPUFreq = pd.read_csv('data/cpuFreq.csv', sep=',', names=titles)"
   ]
  },
  {
   "cell_type": "code",
   "execution_count": 884,
   "metadata": {
    "scrolled": false
   },
   "outputs": [
    {
     "data": {
      "text/html": [
       "<div>\n",
       "<style scoped>\n",
       "    .dataframe tbody tr th:only-of-type {\n",
       "        vertical-align: middle;\n",
       "    }\n",
       "\n",
       "    .dataframe tbody tr th {\n",
       "        vertical-align: top;\n",
       "    }\n",
       "\n",
       "    .dataframe thead th {\n",
       "        text-align: right;\n",
       "    }\n",
       "</style>\n",
       "<table border=\"1\" class=\"dataframe\">\n",
       "  <thead>\n",
       "    <tr style=\"text-align: right;\">\n",
       "      <th></th>\n",
       "      <th>cpu0</th>\n",
       "      <th>cpu1</th>\n",
       "      <th>cpu2</th>\n",
       "      <th>cpu3</th>\n",
       "      <th>cpu4</th>\n",
       "      <th>cpu5</th>\n",
       "      <th>cpu6</th>\n",
       "      <th>cpu7</th>\n",
       "    </tr>\n",
       "  </thead>\n",
       "  <tbody>\n",
       "    <tr>\n",
       "      <th>0</th>\n",
       "      <td>576000</td>\n",
       "      <td>576000</td>\n",
       "      <td>576000</td>\n",
       "      <td>576000</td>\n",
       "      <td>825600</td>\n",
       "      <td>825600</td>\n",
       "      <td>825600</td>\n",
       "      <td>825600</td>\n",
       "    </tr>\n",
       "    <tr>\n",
       "      <th>1</th>\n",
       "      <td>1555200</td>\n",
       "      <td>1555200</td>\n",
       "      <td>1555200</td>\n",
       "      <td>1555200</td>\n",
       "      <td>1286400</td>\n",
       "      <td>1286400</td>\n",
       "      <td>1286400</td>\n",
       "      <td>825600</td>\n",
       "    </tr>\n",
       "    <tr>\n",
       "      <th>2</th>\n",
       "      <td>576000</td>\n",
       "      <td>576000</td>\n",
       "      <td>576000</td>\n",
       "      <td>576000</td>\n",
       "      <td>1056000</td>\n",
       "      <td>1056000</td>\n",
       "      <td>1056000</td>\n",
       "      <td>825600</td>\n",
       "    </tr>\n",
       "    <tr>\n",
       "      <th>3</th>\n",
       "      <td>576000</td>\n",
       "      <td>576000</td>\n",
       "      <td>576000</td>\n",
       "      <td>576000</td>\n",
       "      <td>1286400</td>\n",
       "      <td>1286400</td>\n",
       "      <td>1286400</td>\n",
       "      <td>825600</td>\n",
       "    </tr>\n",
       "    <tr>\n",
       "      <th>4</th>\n",
       "      <td>576000</td>\n",
       "      <td>576000</td>\n",
       "      <td>576000</td>\n",
       "      <td>576000</td>\n",
       "      <td>1171200</td>\n",
       "      <td>1171200</td>\n",
       "      <td>1171200</td>\n",
       "      <td>825600</td>\n",
       "    </tr>\n",
       "  </tbody>\n",
       "</table>\n",
       "</div>"
      ],
      "text/plain": [
       "      cpu0     cpu1     cpu2     cpu3     cpu4     cpu5     cpu6    cpu7\n",
       "0   576000   576000   576000   576000   825600   825600   825600  825600\n",
       "1  1555200  1555200  1555200  1555200  1286400  1286400  1286400  825600\n",
       "2   576000   576000   576000   576000  1056000  1056000  1056000  825600\n",
       "3   576000   576000   576000   576000  1286400  1286400  1286400  825600\n",
       "4   576000   576000   576000   576000  1171200  1171200  1171200  825600"
      ]
     },
     "execution_count": 884,
     "metadata": {},
     "output_type": "execute_result"
    }
   ],
   "source": [
    "CPUFreq.head()"
   ]
  },
  {
   "cell_type": "code",
   "execution_count": 885,
   "metadata": {},
   "outputs": [],
   "source": [
    "CPUFreq.drop(CPUFreq.index[len(CPUFreq)-1], inplace = True)"
   ]
  },
  {
   "cell_type": "code",
   "execution_count": 886,
   "metadata": {},
   "outputs": [
    {
     "data": {
      "text/html": [
       "<div>\n",
       "<style scoped>\n",
       "    .dataframe tbody tr th:only-of-type {\n",
       "        vertical-align: middle;\n",
       "    }\n",
       "\n",
       "    .dataframe tbody tr th {\n",
       "        vertical-align: top;\n",
       "    }\n",
       "\n",
       "    .dataframe thead th {\n",
       "        text-align: right;\n",
       "    }\n",
       "</style>\n",
       "<table border=\"1\" class=\"dataframe\">\n",
       "  <thead>\n",
       "    <tr style=\"text-align: right;\">\n",
       "      <th></th>\n",
       "      <th>cpu0</th>\n",
       "      <th>cpu1</th>\n",
       "      <th>cpu2</th>\n",
       "      <th>cpu3</th>\n",
       "      <th>cpu4</th>\n",
       "      <th>cpu5</th>\n",
       "      <th>cpu6</th>\n",
       "      <th>cpu7</th>\n",
       "    </tr>\n",
       "  </thead>\n",
       "  <tbody>\n",
       "    <tr>\n",
       "      <th>5</th>\n",
       "      <td>576000</td>\n",
       "      <td>576000</td>\n",
       "      <td>576000</td>\n",
       "      <td>576000</td>\n",
       "      <td>1056000</td>\n",
       "      <td>1056000</td>\n",
       "      <td>1056000</td>\n",
       "      <td>825600</td>\n",
       "    </tr>\n",
       "    <tr>\n",
       "      <th>6</th>\n",
       "      <td>576000</td>\n",
       "      <td>576000</td>\n",
       "      <td>576000</td>\n",
       "      <td>576000</td>\n",
       "      <td>1286400</td>\n",
       "      <td>1286400</td>\n",
       "      <td>1286400</td>\n",
       "      <td>825600</td>\n",
       "    </tr>\n",
       "    <tr>\n",
       "      <th>7</th>\n",
       "      <td>576000</td>\n",
       "      <td>576000</td>\n",
       "      <td>576000</td>\n",
       "      <td>576000</td>\n",
       "      <td>1171200</td>\n",
       "      <td>1171200</td>\n",
       "      <td>1171200</td>\n",
       "      <td>825600</td>\n",
       "    </tr>\n",
       "    <tr>\n",
       "      <th>8</th>\n",
       "      <td>1785600</td>\n",
       "      <td>1785600</td>\n",
       "      <td>1785600</td>\n",
       "      <td>1785600</td>\n",
       "      <td>2419200</td>\n",
       "      <td>2419200</td>\n",
       "      <td>2419200</td>\n",
       "      <td>1612800</td>\n",
       "    </tr>\n",
       "    <tr>\n",
       "      <th>9</th>\n",
       "      <td>576000</td>\n",
       "      <td>576000</td>\n",
       "      <td>576000</td>\n",
       "      <td>576000</td>\n",
       "      <td>710400</td>\n",
       "      <td>710400</td>\n",
       "      <td>710400</td>\n",
       "      <td>1497600</td>\n",
       "    </tr>\n",
       "  </tbody>\n",
       "</table>\n",
       "</div>"
      ],
      "text/plain": [
       "      cpu0     cpu1     cpu2     cpu3     cpu4     cpu5     cpu6     cpu7\n",
       "5   576000   576000   576000   576000  1056000  1056000  1056000   825600\n",
       "6   576000   576000   576000   576000  1286400  1286400  1286400   825600\n",
       "7   576000   576000   576000   576000  1171200  1171200  1171200   825600\n",
       "8  1785600  1785600  1785600  1785600  2419200  2419200  2419200  1612800\n",
       "9   576000   576000   576000   576000   710400   710400   710400  1497600"
      ]
     },
     "execution_count": 886,
     "metadata": {},
     "output_type": "execute_result"
    }
   ],
   "source": [
    "CPUFreq.tail()"
   ]
  },
  {
   "cell_type": "markdown",
   "metadata": {},
   "source": [
    "### CPU time csv"
   ]
  },
  {
   "cell_type": "code",
   "execution_count": 887,
   "metadata": {},
   "outputs": [
    {
     "data": {
      "text/plain": [
       "9"
      ]
     },
     "execution_count": 887,
     "metadata": {},
     "output_type": "execute_result"
    }
   ],
   "source": [
    "colSize = len(pd.read_csv('data/cpuTime.csv').columns);\n",
    "colSize"
   ]
  },
  {
   "cell_type": "code",
   "execution_count": 888,
   "metadata": {},
   "outputs": [
    {
     "data": {
      "text/plain": [
       "['cpu', 'cpu0', 'cpu1', 'cpu2', 'cpu3', 'cpu4', 'cpu5', 'cpu6', 'cpu7']"
      ]
     },
     "execution_count": 888,
     "metadata": {},
     "output_type": "execute_result"
    }
   ],
   "source": [
    "titles = []\n",
    "for i in range(0, colSize):\n",
    "    if i == 0:\n",
    "        titles.append('cpu')\n",
    "    else:\n",
    "        titles.append('cpu' + str(i-1))\n",
    "titles"
   ]
  },
  {
   "cell_type": "code",
   "execution_count": 889,
   "metadata": {},
   "outputs": [],
   "source": [
    "CPUTime = pd.read_csv('data/cpuTime.csv', sep=',', names=titles)"
   ]
  },
  {
   "cell_type": "code",
   "execution_count": 890,
   "metadata": {},
   "outputs": [],
   "source": [
    "#CPUTime.head()"
   ]
  },
  {
   "cell_type": "code",
   "execution_count": 891,
   "metadata": {},
   "outputs": [],
   "source": [
    "CPUTime.drop(CPUTime.index[len(CPUTime)-1], inplace = True)"
   ]
  },
  {
   "cell_type": "code",
   "execution_count": 892,
   "metadata": {},
   "outputs": [],
   "source": [
    "#CPUTime.tail()"
   ]
  },
  {
   "cell_type": "code",
   "execution_count": 893,
   "metadata": {},
   "outputs": [],
   "source": [
    "rowSize = len(CPUTime.index)\n",
    "seven = 7"
   ]
  },
  {
   "cell_type": "code",
   "execution_count": 894,
   "metadata": {},
   "outputs": [],
   "source": [
    "threeD = []\n",
    "for c in range(0, colSize):\n",
    "    twoD = []\n",
    "    for r in range(0, rowSize):\n",
    "        line = CPUTime.iloc[r][c]\n",
    "        arr = line.split()\n",
    "        oneD = []\n",
    "        for i in range(0, seven):\n",
    "            oneD.append(int(arr[i]))\n",
    "        twoD.append(oneD)\n",
    "    threeD.append(twoD) "
   ]
  },
  {
   "cell_type": "code",
   "execution_count": 895,
   "metadata": {
    "scrolled": true
   },
   "outputs": [],
   "source": [
    "#threeD[0]"
   ]
  },
  {
   "cell_type": "code",
   "execution_count": 896,
   "metadata": {
    "scrolled": true
   },
   "outputs": [],
   "source": [
    "for i in range(0, colSize):\n",
    "    for j in range(rowSize-1, 0, -1):\n",
    "        for k in range(0, seven):\n",
    "            threeD[i][j][k] = threeD[i][j][k] - threeD[i][j-1][k]"
   ]
  },
  {
   "cell_type": "code",
   "execution_count": 897,
   "metadata": {
    "scrolled": true
   },
   "outputs": [],
   "source": [
    "#threeD[0]"
   ]
  },
  {
   "cell_type": "code",
   "execution_count": 898,
   "metadata": {},
   "outputs": [
    {
     "data": {
      "text/plain": [
       "9"
      ]
     },
     "execution_count": 898,
     "metadata": {},
     "output_type": "execute_result"
    }
   ],
   "source": [
    "colSize"
   ]
  },
  {
   "cell_type": "code",
   "execution_count": 899,
   "metadata": {},
   "outputs": [
    {
     "data": {
      "text/plain": [
       "10"
      ]
     },
     "execution_count": 899,
     "metadata": {},
     "output_type": "execute_result"
    }
   ],
   "source": [
    "rowSize"
   ]
  },
  {
   "cell_type": "markdown",
   "metadata": {},
   "source": [
    "#### user  nice  system  idle  iowait  irq  softirq"
   ]
  },
  {
   "cell_type": "code",
   "execution_count": 900,
   "metadata": {},
   "outputs": [],
   "source": [
    "final3D = []\n",
    "for i in range(0, colSize):\n",
    "    #twoD = []\n",
    "    twoD = pd.DataFrame(columns='total user% nice% system% idle% iowait% irq% softirq%'.split())\n",
    "    index = 0\n",
    "    for j in range(0, rowSize):\n",
    "        line = threeD[i][j]\n",
    "        total = sum(line)\n",
    "        oneD = []\n",
    "        oneD.append(total)\n",
    "        for k in range(0, seven):\n",
    "            oneD.append(round(threeD[i][j][k]*100 / total))\n",
    "        twoD.loc[index] = oneD\n",
    "        index += 1\n",
    "    final3D.append(twoD)"
   ]
  },
  {
   "cell_type": "code",
   "execution_count": 911,
   "metadata": {
    "scrolled": true
   },
   "outputs": [
    {
     "data": {
      "text/html": [
       "<div>\n",
       "<style scoped>\n",
       "    .dataframe tbody tr th:only-of-type {\n",
       "        vertical-align: middle;\n",
       "    }\n",
       "\n",
       "    .dataframe tbody tr th {\n",
       "        vertical-align: top;\n",
       "    }\n",
       "\n",
       "    .dataframe thead th {\n",
       "        text-align: right;\n",
       "    }\n",
       "</style>\n",
       "<table border=\"1\" class=\"dataframe\">\n",
       "  <thead>\n",
       "    <tr style=\"text-align: right;\">\n",
       "      <th></th>\n",
       "      <th>total</th>\n",
       "      <th>user%</th>\n",
       "      <th>nice%</th>\n",
       "      <th>system%</th>\n",
       "      <th>idle%</th>\n",
       "      <th>iowait%</th>\n",
       "      <th>irq%</th>\n",
       "      <th>softirq%</th>\n",
       "    </tr>\n",
       "  </thead>\n",
       "  <tbody>\n",
       "    <tr>\n",
       "      <th>0</th>\n",
       "      <td>132263229</td>\n",
       "      <td>2</td>\n",
       "      <td>0</td>\n",
       "      <td>2</td>\n",
       "      <td>95</td>\n",
       "      <td>0</td>\n",
       "      <td>0</td>\n",
       "      <td>0</td>\n",
       "    </tr>\n",
       "    <tr>\n",
       "      <th>1</th>\n",
       "      <td>914</td>\n",
       "      <td>2</td>\n",
       "      <td>4</td>\n",
       "      <td>5</td>\n",
       "      <td>89</td>\n",
       "      <td>0</td>\n",
       "      <td>0</td>\n",
       "      <td>0</td>\n",
       "    </tr>\n",
       "    <tr>\n",
       "      <th>2</th>\n",
       "      <td>945</td>\n",
       "      <td>1</td>\n",
       "      <td>1</td>\n",
       "      <td>1</td>\n",
       "      <td>97</td>\n",
       "      <td>0</td>\n",
       "      <td>0</td>\n",
       "      <td>0</td>\n",
       "    </tr>\n",
       "    <tr>\n",
       "      <th>3</th>\n",
       "      <td>916</td>\n",
       "      <td>1</td>\n",
       "      <td>0</td>\n",
       "      <td>1</td>\n",
       "      <td>97</td>\n",
       "      <td>0</td>\n",
       "      <td>0</td>\n",
       "      <td>0</td>\n",
       "    </tr>\n",
       "    <tr>\n",
       "      <th>4</th>\n",
       "      <td>926</td>\n",
       "      <td>1</td>\n",
       "      <td>0</td>\n",
       "      <td>1</td>\n",
       "      <td>98</td>\n",
       "      <td>0</td>\n",
       "      <td>0</td>\n",
       "      <td>0</td>\n",
       "    </tr>\n",
       "  </tbody>\n",
       "</table>\n",
       "</div>"
      ],
      "text/plain": [
       "       total user% nice% system% idle% iowait% irq% softirq%\n",
       "0  132263229     2     0       2    95       0    0        0\n",
       "1        914     2     4       5    89       0    0        0\n",
       "2        945     1     1       1    97       0    0        0\n",
       "3        916     1     0       1    97       0    0        0\n",
       "4        926     1     0       1    98       0    0        0"
      ]
     },
     "execution_count": 911,
     "metadata": {},
     "output_type": "execute_result"
    }
   ],
   "source": [
    "final3D[0].head()"
   ]
  },
  {
   "cell_type": "code",
   "execution_count": 912,
   "metadata": {},
   "outputs": [
    {
     "data": {
      "text/html": [
       "<div>\n",
       "<style scoped>\n",
       "    .dataframe tbody tr th:only-of-type {\n",
       "        vertical-align: middle;\n",
       "    }\n",
       "\n",
       "    .dataframe tbody tr th {\n",
       "        vertical-align: top;\n",
       "    }\n",
       "\n",
       "    .dataframe thead th {\n",
       "        text-align: right;\n",
       "    }\n",
       "</style>\n",
       "<table border=\"1\" class=\"dataframe\">\n",
       "  <thead>\n",
       "    <tr style=\"text-align: right;\">\n",
       "      <th></th>\n",
       "      <th>total</th>\n",
       "      <th>user%</th>\n",
       "      <th>nice%</th>\n",
       "      <th>system%</th>\n",
       "      <th>idle%</th>\n",
       "      <th>iowait%</th>\n",
       "      <th>irq%</th>\n",
       "      <th>softirq%</th>\n",
       "    </tr>\n",
       "  </thead>\n",
       "  <tbody>\n",
       "    <tr>\n",
       "      <th>5</th>\n",
       "      <td>935</td>\n",
       "      <td>1</td>\n",
       "      <td>1</td>\n",
       "      <td>2</td>\n",
       "      <td>96</td>\n",
       "      <td>0</td>\n",
       "      <td>0</td>\n",
       "      <td>0</td>\n",
       "    </tr>\n",
       "    <tr>\n",
       "      <th>6</th>\n",
       "      <td>921</td>\n",
       "      <td>1</td>\n",
       "      <td>0</td>\n",
       "      <td>1</td>\n",
       "      <td>98</td>\n",
       "      <td>0</td>\n",
       "      <td>0</td>\n",
       "      <td>0</td>\n",
       "    </tr>\n",
       "    <tr>\n",
       "      <th>7</th>\n",
       "      <td>910</td>\n",
       "      <td>1</td>\n",
       "      <td>0</td>\n",
       "      <td>1</td>\n",
       "      <td>98</td>\n",
       "      <td>0</td>\n",
       "      <td>0</td>\n",
       "      <td>0</td>\n",
       "    </tr>\n",
       "    <tr>\n",
       "      <th>8</th>\n",
       "      <td>921</td>\n",
       "      <td>3</td>\n",
       "      <td>3</td>\n",
       "      <td>3</td>\n",
       "      <td>91</td>\n",
       "      <td>0</td>\n",
       "      <td>0</td>\n",
       "      <td>0</td>\n",
       "    </tr>\n",
       "    <tr>\n",
       "      <th>9</th>\n",
       "      <td>846</td>\n",
       "      <td>4</td>\n",
       "      <td>0</td>\n",
       "      <td>4</td>\n",
       "      <td>90</td>\n",
       "      <td>0</td>\n",
       "      <td>0</td>\n",
       "      <td>0</td>\n",
       "    </tr>\n",
       "  </tbody>\n",
       "</table>\n",
       "</div>"
      ],
      "text/plain": [
       "  total user% nice% system% idle% iowait% irq% softirq%\n",
       "5   935     1     1       2    96       0    0        0\n",
       "6   921     1     0       1    98       0    0        0\n",
       "7   910     1     0       1    98       0    0        0\n",
       "8   921     3     3       3    91       0    0        0\n",
       "9   846     4     0       4    90       0    0        0"
      ]
     },
     "execution_count": 912,
     "metadata": {},
     "output_type": "execute_result"
    }
   ],
   "source": [
    "final3D[0].tail()"
   ]
  },
  {
   "cell_type": "markdown",
   "metadata": {},
   "source": [
    "### Memory csv (kB)"
   ]
  },
  {
   "cell_type": "code",
   "execution_count": 902,
   "metadata": {},
   "outputs": [],
   "source": [
    "Memory = pd.read_csv('data/memory.csv')"
   ]
  },
  {
   "cell_type": "code",
   "execution_count": 903,
   "metadata": {},
   "outputs": [],
   "source": [
    "colSize = len(Memory.columns)\n",
    "titles = []\n",
    "for i in range(0, colSize):\n",
    "    titles.append(Memory.iloc[0][i].split(':')[0])"
   ]
  },
  {
   "cell_type": "code",
   "execution_count": 904,
   "metadata": {},
   "outputs": [],
   "source": [
    "Memory = pd.read_csv('data/memory.csv', sep=',', names=titles)\n",
    "rowSize = len(Memory)\n",
    "for i in range(0, rowSize):\n",
    "    for j in range(0, colSize):\n",
    "        Memory.iloc[i][j] = Memory.iloc[i][j].split(':')[1].strip().split()[0]"
   ]
  },
  {
   "cell_type": "code",
   "execution_count": 910,
   "metadata": {
    "scrolled": true
   },
   "outputs": [
    {
     "data": {
      "text/html": [
       "<div>\n",
       "<style scoped>\n",
       "    .dataframe tbody tr th:only-of-type {\n",
       "        vertical-align: middle;\n",
       "    }\n",
       "\n",
       "    .dataframe tbody tr th {\n",
       "        vertical-align: top;\n",
       "    }\n",
       "\n",
       "    .dataframe thead th {\n",
       "        text-align: right;\n",
       "    }\n",
       "</style>\n",
       "<table border=\"1\" class=\"dataframe\">\n",
       "  <thead>\n",
       "    <tr style=\"text-align: right;\">\n",
       "      <th></th>\n",
       "      <th>Thread quantity</th>\n",
       "      <th>MemTotal</th>\n",
       "      <th>MemFree</th>\n",
       "      <th>MemAvailable</th>\n",
       "      <th>Buffers</th>\n",
       "      <th>Cached</th>\n",
       "      <th>SwapCached</th>\n",
       "      <th>Active</th>\n",
       "      <th>Inactive</th>\n",
       "      <th>Active(anon)</th>\n",
       "      <th>...</th>\n",
       "      <th>ION_heap</th>\n",
       "      <th>ION_heap_pool</th>\n",
       "      <th>WritebackTmp</th>\n",
       "      <th>CommitLimit</th>\n",
       "      <th>Committed_AS</th>\n",
       "      <th>VmallocTotal</th>\n",
       "      <th>VmallocUsed</th>\n",
       "      <th>VmallocChunk</th>\n",
       "      <th>CmaTotal</th>\n",
       "      <th>CmaFree</th>\n",
       "    </tr>\n",
       "  </thead>\n",
       "  <tbody>\n",
       "    <tr>\n",
       "      <th>0</th>\n",
       "      <td>16</td>\n",
       "      <td>5598060</td>\n",
       "      <td>120188</td>\n",
       "      <td>3161156</td>\n",
       "      <td>9692</td>\n",
       "      <td>3272992</td>\n",
       "      <td>40304</td>\n",
       "      <td>1371864</td>\n",
       "      <td>2347164</td>\n",
       "      <td>283308</td>\n",
       "      <td>...</td>\n",
       "      <td>262564</td>\n",
       "      <td>126564</td>\n",
       "      <td>0</td>\n",
       "      <td>4896176</td>\n",
       "      <td>82419792</td>\n",
       "      <td>263061440</td>\n",
       "      <td>108236</td>\n",
       "      <td>0</td>\n",
       "      <td>233472</td>\n",
       "      <td>4</td>\n",
       "    </tr>\n",
       "    <tr>\n",
       "      <th>1</th>\n",
       "      <td>16</td>\n",
       "      <td>5598060</td>\n",
       "      <td>96320</td>\n",
       "      <td>3137360</td>\n",
       "      <td>9692</td>\n",
       "      <td>3273076</td>\n",
       "      <td>45400</td>\n",
       "      <td>1388240</td>\n",
       "      <td>2365160</td>\n",
       "      <td>299672</td>\n",
       "      <td>...</td>\n",
       "      <td>262564</td>\n",
       "      <td>126564</td>\n",
       "      <td>0</td>\n",
       "      <td>4896176</td>\n",
       "      <td>82429204</td>\n",
       "      <td>263061440</td>\n",
       "      <td>108188</td>\n",
       "      <td>0</td>\n",
       "      <td>233472</td>\n",
       "      <td>0</td>\n",
       "    </tr>\n",
       "    <tr>\n",
       "      <th>2</th>\n",
       "      <td>16</td>\n",
       "      <td>5598060</td>\n",
       "      <td>97128</td>\n",
       "      <td>3138176</td>\n",
       "      <td>9692</td>\n",
       "      <td>3273084</td>\n",
       "      <td>45788</td>\n",
       "      <td>1386384</td>\n",
       "      <td>2367108</td>\n",
       "      <td>297780</td>\n",
       "      <td>...</td>\n",
       "      <td>262564</td>\n",
       "      <td>126564</td>\n",
       "      <td>0</td>\n",
       "      <td>4896176</td>\n",
       "      <td>82429204</td>\n",
       "      <td>263061440</td>\n",
       "      <td>108140</td>\n",
       "      <td>0</td>\n",
       "      <td>233472</td>\n",
       "      <td>0</td>\n",
       "    </tr>\n",
       "    <tr>\n",
       "      <th>3</th>\n",
       "      <td>16</td>\n",
       "      <td>5598060</td>\n",
       "      <td>96988</td>\n",
       "      <td>3138036</td>\n",
       "      <td>9692</td>\n",
       "      <td>3273084</td>\n",
       "      <td>45788</td>\n",
       "      <td>1386700</td>\n",
       "      <td>2367120</td>\n",
       "      <td>298096</td>\n",
       "      <td>...</td>\n",
       "      <td>262564</td>\n",
       "      <td>126564</td>\n",
       "      <td>0</td>\n",
       "      <td>4896176</td>\n",
       "      <td>82429204</td>\n",
       "      <td>263061440</td>\n",
       "      <td>108140</td>\n",
       "      <td>0</td>\n",
       "      <td>233472</td>\n",
       "      <td>0</td>\n",
       "    </tr>\n",
       "    <tr>\n",
       "      <th>4</th>\n",
       "      <td>16</td>\n",
       "      <td>5598060</td>\n",
       "      <td>96712</td>\n",
       "      <td>3137764</td>\n",
       "      <td>9692</td>\n",
       "      <td>3273128</td>\n",
       "      <td>45780</td>\n",
       "      <td>1387108</td>\n",
       "      <td>2367096</td>\n",
       "      <td>298504</td>\n",
       "      <td>...</td>\n",
       "      <td>262564</td>\n",
       "      <td>126564</td>\n",
       "      <td>0</td>\n",
       "      <td>4896176</td>\n",
       "      <td>82429204</td>\n",
       "      <td>263061440</td>\n",
       "      <td>108108</td>\n",
       "      <td>0</td>\n",
       "      <td>233472</td>\n",
       "      <td>0</td>\n",
       "    </tr>\n",
       "  </tbody>\n",
       "</table>\n",
       "<p>5 rows × 40 columns</p>\n",
       "</div>"
      ],
      "text/plain": [
       "  Thread quantity MemTotal MemFree MemAvailable Buffers   Cached SwapCached  \\\n",
       "0              16  5598060  120188      3161156    9692  3272992      40304   \n",
       "1              16  5598060   96320      3137360    9692  3273076      45400   \n",
       "2              16  5598060   97128      3138176    9692  3273084      45788   \n",
       "3              16  5598060   96988      3138036    9692  3273084      45788   \n",
       "4              16  5598060   96712      3137764    9692  3273128      45780   \n",
       "\n",
       "    Active Inactive Active(anon)  ... ION_heap ION_heap_pool WritebackTmp  \\\n",
       "0  1371864  2347164       283308  ...   262564        126564            0   \n",
       "1  1388240  2365160       299672  ...   262564        126564            0   \n",
       "2  1386384  2367108       297780  ...   262564        126564            0   \n",
       "3  1386700  2367120       298096  ...   262564        126564            0   \n",
       "4  1387108  2367096       298504  ...   262564        126564            0   \n",
       "\n",
       "  CommitLimit Committed_AS VmallocTotal VmallocUsed VmallocChunk CmaTotal  \\\n",
       "0     4896176     82419792    263061440      108236            0   233472   \n",
       "1     4896176     82429204    263061440      108188            0   233472   \n",
       "2     4896176     82429204    263061440      108140            0   233472   \n",
       "3     4896176     82429204    263061440      108140            0   233472   \n",
       "4     4896176     82429204    263061440      108108            0   233472   \n",
       "\n",
       "  CmaFree  \n",
       "0       4  \n",
       "1       0  \n",
       "2       0  \n",
       "3       0  \n",
       "4       0  \n",
       "\n",
       "[5 rows x 40 columns]"
      ]
     },
     "execution_count": 910,
     "metadata": {},
     "output_type": "execute_result"
    }
   ],
   "source": [
    "Memory.head()"
   ]
  },
  {
   "cell_type": "code",
   "execution_count": null,
   "metadata": {},
   "outputs": [],
   "source": [
    "Memory.tail()"
   ]
  },
  {
   "cell_type": "markdown",
   "metadata": {},
   "source": [
    "### Temperature csv"
   ]
  },
  {
   "cell_type": "code",
   "execution_count": 906,
   "metadata": {},
   "outputs": [],
   "source": [
    "temp = pd.read_csv('data/temperature.csv')\n",
    "colSize = len(temp.columns)\n",
    "rowSize = len(temp)"
   ]
  },
  {
   "cell_type": "code",
   "execution_count": 907,
   "metadata": {},
   "outputs": [
    {
     "data": {
      "text/plain": [
       "88"
      ]
     },
     "execution_count": 907,
     "metadata": {},
     "output_type": "execute_result"
    }
   ],
   "source": [
    "titles = []\n",
    "for i in range(0, colSize):\n",
    "    titles.append(temp.iloc[rowSize-1][i])\n",
    "len(titles)"
   ]
  },
  {
   "cell_type": "code",
   "execution_count": 908,
   "metadata": {},
   "outputs": [
    {
     "data": {
      "text/html": [
       "<div>\n",
       "<style scoped>\n",
       "    .dataframe tbody tr th:only-of-type {\n",
       "        vertical-align: middle;\n",
       "    }\n",
       "\n",
       "    .dataframe tbody tr th {\n",
       "        vertical-align: top;\n",
       "    }\n",
       "\n",
       "    .dataframe thead th {\n",
       "        text-align: right;\n",
       "    }\n",
       "</style>\n",
       "<table border=\"1\" class=\"dataframe\">\n",
       "  <thead>\n",
       "    <tr style=\"text-align: right;\">\n",
       "      <th></th>\n",
       "      <th>aoss0-usr</th>\n",
       "      <th>cpu-0-0-usr</th>\n",
       "      <th>cpu-0-1-usr</th>\n",
       "      <th>cpu-0-2-usr</th>\n",
       "      <th>cpu-0-3-usr</th>\n",
       "      <th>cpuss-0-usr</th>\n",
       "      <th>cpuss-1-usr</th>\n",
       "      <th>cpu-1-0-usr</th>\n",
       "      <th>cpu-1-1-usr</th>\n",
       "      <th>cpu-1-2-usr</th>\n",
       "      <th>...</th>\n",
       "      <th>disp-therm</th>\n",
       "      <th>usbc-therm-adc</th>\n",
       "      <th>usbc-therm-monitor</th>\n",
       "      <th>bcl-cycle</th>\n",
       "      <th>bcl-virt-extreme</th>\n",
       "      <th>maxfg</th>\n",
       "      <th>charger</th>\n",
       "      <th>s2mpg01_tz</th>\n",
       "      <th>usb</th>\n",
       "      <th>battery</th>\n",
       "    </tr>\n",
       "  </thead>\n",
       "  <tbody>\n",
       "    <tr>\n",
       "      <th>0</th>\n",
       "      <td>33900</td>\n",
       "      <td>36300</td>\n",
       "      <td>35500</td>\n",
       "      <td>35100</td>\n",
       "      <td>35500</td>\n",
       "      <td>36300</td>\n",
       "      <td>35100</td>\n",
       "      <td>33900</td>\n",
       "      <td>35500</td>\n",
       "      <td>36600</td>\n",
       "      <td>...</td>\n",
       "      <td>29521</td>\n",
       "      <td>29015</td>\n",
       "      <td>29018</td>\n",
       "      <td>9</td>\n",
       "      <td>0</td>\n",
       "      <td>28100</td>\n",
       "      <td>28000</td>\n",
       "      <td>31701</td>\n",
       "      <td>29000</td>\n",
       "      <td>28100</td>\n",
       "    </tr>\n",
       "    <tr>\n",
       "      <th>1</th>\n",
       "      <td>33900</td>\n",
       "      <td>35500</td>\n",
       "      <td>35100</td>\n",
       "      <td>34700</td>\n",
       "      <td>35500</td>\n",
       "      <td>35900</td>\n",
       "      <td>35500</td>\n",
       "      <td>35900</td>\n",
       "      <td>35500</td>\n",
       "      <td>34700</td>\n",
       "      <td>...</td>\n",
       "      <td>29569</td>\n",
       "      <td>29027</td>\n",
       "      <td>29033</td>\n",
       "      <td>9</td>\n",
       "      <td>0</td>\n",
       "      <td>28100</td>\n",
       "      <td>28000</td>\n",
       "      <td>31701</td>\n",
       "      <td>29000</td>\n",
       "      <td>28100</td>\n",
       "    </tr>\n",
       "    <tr>\n",
       "      <th>2</th>\n",
       "      <td>33600</td>\n",
       "      <td>35100</td>\n",
       "      <td>34700</td>\n",
       "      <td>34300</td>\n",
       "      <td>34700</td>\n",
       "      <td>35100</td>\n",
       "      <td>34700</td>\n",
       "      <td>35500</td>\n",
       "      <td>35100</td>\n",
       "      <td>35100</td>\n",
       "      <td>...</td>\n",
       "      <td>29604</td>\n",
       "      <td>29042</td>\n",
       "      <td>29045</td>\n",
       "      <td>9</td>\n",
       "      <td>0</td>\n",
       "      <td>28100</td>\n",
       "      <td>28000</td>\n",
       "      <td>31701</td>\n",
       "      <td>29000</td>\n",
       "      <td>28100</td>\n",
       "    </tr>\n",
       "    <tr>\n",
       "      <th>3</th>\n",
       "      <td>33200</td>\n",
       "      <td>34700</td>\n",
       "      <td>34300</td>\n",
       "      <td>33900</td>\n",
       "      <td>34300</td>\n",
       "      <td>35100</td>\n",
       "      <td>34300</td>\n",
       "      <td>35100</td>\n",
       "      <td>34300</td>\n",
       "      <td>33900</td>\n",
       "      <td>...</td>\n",
       "      <td>29634</td>\n",
       "      <td>29060</td>\n",
       "      <td>29057</td>\n",
       "      <td>9</td>\n",
       "      <td>0</td>\n",
       "      <td>28100</td>\n",
       "      <td>28000</td>\n",
       "      <td>32868</td>\n",
       "      <td>29000</td>\n",
       "      <td>28100</td>\n",
       "    </tr>\n",
       "    <tr>\n",
       "      <th>4</th>\n",
       "      <td>32800</td>\n",
       "      <td>34700</td>\n",
       "      <td>34300</td>\n",
       "      <td>33900</td>\n",
       "      <td>34300</td>\n",
       "      <td>34700</td>\n",
       "      <td>33900</td>\n",
       "      <td>35100</td>\n",
       "      <td>34700</td>\n",
       "      <td>33900</td>\n",
       "      <td>...</td>\n",
       "      <td>29664</td>\n",
       "      <td>29072</td>\n",
       "      <td>29069</td>\n",
       "      <td>9</td>\n",
       "      <td>0</td>\n",
       "      <td>28100</td>\n",
       "      <td>28000</td>\n",
       "      <td>31701</td>\n",
       "      <td>29000</td>\n",
       "      <td>28100</td>\n",
       "    </tr>\n",
       "  </tbody>\n",
       "</table>\n",
       "<p>5 rows × 88 columns</p>\n",
       "</div>"
      ],
      "text/plain": [
       "  aoss0-usr cpu-0-0-usr cpu-0-1-usr cpu-0-2-usr cpu-0-3-usr cpuss-0-usr  \\\n",
       "0     33900       36300       35500       35100       35500       36300   \n",
       "1     33900       35500       35100       34700       35500       35900   \n",
       "2     33600       35100       34700       34300       34700       35100   \n",
       "3     33200       34700       34300       33900       34300       35100   \n",
       "4     32800       34700       34300       33900       34300       34700   \n",
       "\n",
       "  cpuss-1-usr cpu-1-0-usr cpu-1-1-usr cpu-1-2-usr  ... disp-therm  \\\n",
       "0       35100       33900       35500       36600  ...      29521   \n",
       "1       35500       35900       35500       34700  ...      29569   \n",
       "2       34700       35500       35100       35100  ...      29604   \n",
       "3       34300       35100       34300       33900  ...      29634   \n",
       "4       33900       35100       34700       33900  ...      29664   \n",
       "\n",
       "  usbc-therm-adc usbc-therm-monitor bcl-cycle bcl-virt-extreme  maxfg charger  \\\n",
       "0          29015              29018         9                0  28100   28000   \n",
       "1          29027              29033         9                0  28100   28000   \n",
       "2          29042              29045         9                0  28100   28000   \n",
       "3          29060              29057         9                0  28100   28000   \n",
       "4          29072              29069         9                0  28100   28000   \n",
       "\n",
       "  s2mpg01_tz    usb battery  \n",
       "0      31701  29000   28100  \n",
       "1      31701  29000   28100  \n",
       "2      31701  29000   28100  \n",
       "3      32868  29000   28100  \n",
       "4      31701  29000   28100  \n",
       "\n",
       "[5 rows x 88 columns]"
      ]
     },
     "execution_count": 908,
     "metadata": {},
     "output_type": "execute_result"
    }
   ],
   "source": [
    "Temperature = pd.read_csv('data/temperature.csv', sep=',', names=titles)\n",
    "Temperature.drop(Temperature.index[len(Temperature)-1], inplace = True)\n",
    "Temperature.head()"
   ]
  },
  {
   "cell_type": "code",
   "execution_count": 909,
   "metadata": {},
   "outputs": [
    {
     "data": {
      "text/html": [
       "<div>\n",
       "<style scoped>\n",
       "    .dataframe tbody tr th:only-of-type {\n",
       "        vertical-align: middle;\n",
       "    }\n",
       "\n",
       "    .dataframe tbody tr th {\n",
       "        vertical-align: top;\n",
       "    }\n",
       "\n",
       "    .dataframe thead th {\n",
       "        text-align: right;\n",
       "    }\n",
       "</style>\n",
       "<table border=\"1\" class=\"dataframe\">\n",
       "  <thead>\n",
       "    <tr style=\"text-align: right;\">\n",
       "      <th></th>\n",
       "      <th>aoss0-usr</th>\n",
       "      <th>cpu-0-0-usr</th>\n",
       "      <th>cpu-0-1-usr</th>\n",
       "      <th>cpu-0-2-usr</th>\n",
       "      <th>cpu-0-3-usr</th>\n",
       "      <th>cpuss-0-usr</th>\n",
       "      <th>cpuss-1-usr</th>\n",
       "      <th>cpu-1-0-usr</th>\n",
       "      <th>cpu-1-1-usr</th>\n",
       "      <th>cpu-1-2-usr</th>\n",
       "      <th>...</th>\n",
       "      <th>disp-therm</th>\n",
       "      <th>usbc-therm-adc</th>\n",
       "      <th>usbc-therm-monitor</th>\n",
       "      <th>bcl-cycle</th>\n",
       "      <th>bcl-virt-extreme</th>\n",
       "      <th>maxfg</th>\n",
       "      <th>charger</th>\n",
       "      <th>s2mpg01_tz</th>\n",
       "      <th>usb</th>\n",
       "      <th>battery</th>\n",
       "    </tr>\n",
       "  </thead>\n",
       "  <tbody>\n",
       "    <tr>\n",
       "      <th>5</th>\n",
       "      <td>32400</td>\n",
       "      <td>34300</td>\n",
       "      <td>34300</td>\n",
       "      <td>33900</td>\n",
       "      <td>33900</td>\n",
       "      <td>34700</td>\n",
       "      <td>34300</td>\n",
       "      <td>34700</td>\n",
       "      <td>34300</td>\n",
       "      <td>34300</td>\n",
       "      <td>...</td>\n",
       "      <td>29691</td>\n",
       "      <td>29069</td>\n",
       "      <td>29072</td>\n",
       "      <td>9</td>\n",
       "      <td>0</td>\n",
       "      <td>28100</td>\n",
       "      <td>28000</td>\n",
       "      <td>31701</td>\n",
       "      <td>29000</td>\n",
       "      <td>28100</td>\n",
       "    </tr>\n",
       "    <tr>\n",
       "      <th>6</th>\n",
       "      <td>32800</td>\n",
       "      <td>34300</td>\n",
       "      <td>33900</td>\n",
       "      <td>33600</td>\n",
       "      <td>33900</td>\n",
       "      <td>34700</td>\n",
       "      <td>34300</td>\n",
       "      <td>33200</td>\n",
       "      <td>35900</td>\n",
       "      <td>34700</td>\n",
       "      <td>...</td>\n",
       "      <td>29718</td>\n",
       "      <td>29090</td>\n",
       "      <td>29093</td>\n",
       "      <td>9</td>\n",
       "      <td>0</td>\n",
       "      <td>28100</td>\n",
       "      <td>28000</td>\n",
       "      <td>31701</td>\n",
       "      <td>29000</td>\n",
       "      <td>28100</td>\n",
       "    </tr>\n",
       "    <tr>\n",
       "      <th>7</th>\n",
       "      <td>32800</td>\n",
       "      <td>33900</td>\n",
       "      <td>33900</td>\n",
       "      <td>33600</td>\n",
       "      <td>33600</td>\n",
       "      <td>34300</td>\n",
       "      <td>33900</td>\n",
       "      <td>33900</td>\n",
       "      <td>35100</td>\n",
       "      <td>33900</td>\n",
       "      <td>...</td>\n",
       "      <td>29750</td>\n",
       "      <td>29104</td>\n",
       "      <td>29104</td>\n",
       "      <td>9</td>\n",
       "      <td>0</td>\n",
       "      <td>28200</td>\n",
       "      <td>28000</td>\n",
       "      <td>32868</td>\n",
       "      <td>29100</td>\n",
       "      <td>28200</td>\n",
       "    </tr>\n",
       "    <tr>\n",
       "      <th>8</th>\n",
       "      <td>33600</td>\n",
       "      <td>37800</td>\n",
       "      <td>37800</td>\n",
       "      <td>38600</td>\n",
       "      <td>37400</td>\n",
       "      <td>40900</td>\n",
       "      <td>39700</td>\n",
       "      <td>40900</td>\n",
       "      <td>42000</td>\n",
       "      <td>41700</td>\n",
       "      <td>...</td>\n",
       "      <td>29777</td>\n",
       "      <td>29137</td>\n",
       "      <td>29140</td>\n",
       "      <td>9</td>\n",
       "      <td>0</td>\n",
       "      <td>28200</td>\n",
       "      <td>28000</td>\n",
       "      <td>31701</td>\n",
       "      <td>29100</td>\n",
       "      <td>28200</td>\n",
       "    </tr>\n",
       "    <tr>\n",
       "      <th>9</th>\n",
       "      <td>33200</td>\n",
       "      <td>34700</td>\n",
       "      <td>34300</td>\n",
       "      <td>33600</td>\n",
       "      <td>34300</td>\n",
       "      <td>34700</td>\n",
       "      <td>34300</td>\n",
       "      <td>34700</td>\n",
       "      <td>34300</td>\n",
       "      <td>34300</td>\n",
       "      <td>...</td>\n",
       "      <td>29789</td>\n",
       "      <td>29125</td>\n",
       "      <td>29125</td>\n",
       "      <td>9</td>\n",
       "      <td>0</td>\n",
       "      <td>28200</td>\n",
       "      <td>28000</td>\n",
       "      <td>32868</td>\n",
       "      <td>29100</td>\n",
       "      <td>28200</td>\n",
       "    </tr>\n",
       "  </tbody>\n",
       "</table>\n",
       "<p>5 rows × 88 columns</p>\n",
       "</div>"
      ],
      "text/plain": [
       "  aoss0-usr cpu-0-0-usr cpu-0-1-usr cpu-0-2-usr cpu-0-3-usr cpuss-0-usr  \\\n",
       "5     32400       34300       34300       33900       33900       34700   \n",
       "6     32800       34300       33900       33600       33900       34700   \n",
       "7     32800       33900       33900       33600       33600       34300   \n",
       "8     33600       37800       37800       38600       37400       40900   \n",
       "9     33200       34700       34300       33600       34300       34700   \n",
       "\n",
       "  cpuss-1-usr cpu-1-0-usr cpu-1-1-usr cpu-1-2-usr  ... disp-therm  \\\n",
       "5       34300       34700       34300       34300  ...      29691   \n",
       "6       34300       33200       35900       34700  ...      29718   \n",
       "7       33900       33900       35100       33900  ...      29750   \n",
       "8       39700       40900       42000       41700  ...      29777   \n",
       "9       34300       34700       34300       34300  ...      29789   \n",
       "\n",
       "  usbc-therm-adc usbc-therm-monitor bcl-cycle bcl-virt-extreme  maxfg charger  \\\n",
       "5          29069              29072         9                0  28100   28000   \n",
       "6          29090              29093         9                0  28100   28000   \n",
       "7          29104              29104         9                0  28200   28000   \n",
       "8          29137              29140         9                0  28200   28000   \n",
       "9          29125              29125         9                0  28200   28000   \n",
       "\n",
       "  s2mpg01_tz    usb battery  \n",
       "5      31701  29000   28100  \n",
       "6      31701  29000   28100  \n",
       "7      32868  29100   28200  \n",
       "8      31701  29100   28200  \n",
       "9      32868  29100   28200  \n",
       "\n",
       "[5 rows x 88 columns]"
      ]
     },
     "execution_count": 909,
     "metadata": {},
     "output_type": "execute_result"
    }
   ],
   "source": [
    "Temperature.tail()"
   ]
  },
  {
   "cell_type": "markdown",
   "metadata": {},
   "source": [
    "### Combine tables to final data set"
   ]
  },
  {
   "cell_type": "code",
   "execution_count": null,
   "metadata": {},
   "outputs": [],
   "source": []
  },
  {
   "cell_type": "code",
   "execution_count": null,
   "metadata": {},
   "outputs": [],
   "source": []
  },
  {
   "cell_type": "code",
   "execution_count": null,
   "metadata": {},
   "outputs": [],
   "source": []
  }
 ],
 "metadata": {
  "kernelspec": {
   "display_name": "Python 3",
   "language": "python",
   "name": "python3"
  },
  "language_info": {
   "codemirror_mode": {
    "name": "ipython",
    "version": 3
   },
   "file_extension": ".py",
   "mimetype": "text/x-python",
   "name": "python",
   "nbconvert_exporter": "python",
   "pygments_lexer": "ipython3",
   "version": "3.6.10"
  }
 },
 "nbformat": 4,
 "nbformat_minor": 2
}
